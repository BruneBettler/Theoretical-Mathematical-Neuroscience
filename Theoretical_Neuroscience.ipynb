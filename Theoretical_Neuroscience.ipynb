{
 "cells": [
  {
   "cell_type": "markdown",
   "metadata": {},
   "source": [
    "## Theoretical Neuroscience by Peter Dayan and L.F. Abbott\n",
    "### Computational and Mathematical Modeling of Neural Systems\n",
    "\n",
    "**Notes and interactive cells by Brune Bettler**\n",
    "\n",
    "*Updated: January 25 2025*\n",
    "\n"
   ]
  }
 ],
 "metadata": {
  "language_info": {
   "name": "python"
  }
 },
 "nbformat": 4,
 "nbformat_minor": 2
}
